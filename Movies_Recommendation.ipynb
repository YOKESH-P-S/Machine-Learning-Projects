{
  "nbformat": 4,
  "nbformat_minor": 0,
  "metadata": {
    "colab": {
      "provenance": [],
      "authorship_tag": "ABX9TyNVxMKZpsSGv3fVvQkNj16t",
      "include_colab_link": true
    },
    "kernelspec": {
      "name": "python3",
      "display_name": "Python 3"
    },
    "language_info": {
      "name": "python"
    }
  },
  "cells": [
    {
      "cell_type": "markdown",
      "metadata": {
        "id": "view-in-github",
        "colab_type": "text"
      },
      "source": [
        "<a href=\"https://colab.research.google.com/github/YOKESH-P-S/Machine-Learning-Projects/blob/main/Movies_Recommendation.ipynb\" target=\"_parent\"><img src=\"https://colab.research.google.com/assets/colab-badge.svg\" alt=\"Open In Colab\"/></a>"
      ]
    },
    {
      "cell_type": "code",
      "execution_count": 18,
      "metadata": {
        "colab": {
          "base_uri": "https://localhost:8080/"
        },
        "id": "bZGF_6H-19UB",
        "outputId": "43b9bf6d-b679-4406-92e4-3286f7cf872e"
      },
      "outputs": [
        {
          "output_type": "stream",
          "name": "stdout",
          "text": [
            "Top recommended movies for you:\n",
            "Monkey Trouble (Similarity: 0.88)\n",
            "  Similar Features: Rating=5.0, Genre=1.0, Year=1994.0, Score=5.3, Director=868.0, Country=28.0, Gross=16453258.0, Runtime=96.0\n",
            "Princess Mononoke (Similarity: 0.88)\n",
            "  Similar Features: Rating=6.0, Genre=2.0, Year=1997.0, Score=8.4, Director=1061.0, Country=28.0, Gross=169785704.0, Runtime=134.0\n",
            "A Pure Formality (Similarity: 0.88)\n",
            "  Similar Features: Rating=6.0, Genre=5.0, Year=1994.0, Score=7.7, Director=986.0, Country=26.0, Gross=190749.0, Runtime=108.0\n",
            "29th Street (Similarity: 0.88)\n",
            "  Similar Features: Rating=7.0, Genre=4.0, Year=1991.0, Score=7.3, Director=959.0, Country=28.0, Gross=2120564.0, Runtime=101.0\n",
            "Lovers of the Arctic Circle (Similarity: 0.88)\n",
            "  Similar Features: Rating=7.0, Genre=6.0, Year=1998.0, Score=7.7, Director=1536.0, Country=48.0, Gross=357549.0, Runtime=112.0\n",
            "Snatch (Similarity: 0.88)\n",
            "  Similar Features: Rating=7.0, Genre=4.0, Year=2000.0, Score=8.3, Director=1031.0, Country=55.0, Gross=83557872.0, Runtime=102.0\n",
            "Only Yesterday (Similarity: 0.88)\n",
            "  Similar Features: Rating=5.0, Genre=2.0, Year=1991.0, Score=7.6, Director=1114.0, Country=28.0, Gross=545825.0, Runtime=118.0\n",
            "Good Will Hunting (Similarity: 0.88)\n",
            "  Similar Features: Rating=7.0, Genre=6.0, Year=1997.0, Score=8.3, Director=1026.0, Country=56.0, Gross=225933435.0, Runtime=126.0\n",
            "The Big Lebowski (Similarity: 0.88)\n",
            "  Similar Features: Rating=7.0, Genre=4.0, Year=1998.0, Score=8.1, Director=1349.0, Country=56.0, Gross=46748721.0, Runtime=117.0\n",
            "Pan's Labyrinth (Similarity: 0.88)\n",
            "  Similar Features: Rating=7.0, Genre=6.0, Year=2006.0, Score=8.2, Director=1023.0, Country=48.0, Gross=83850267.0, Runtime=118.0\n",
            "Tea with Mussolini (Similarity: 0.88)\n",
            "  Similar Features: Rating=5.0, Genre=4.0, Year=1999.0, Score=6.9, Director=870.0, Country=26.0, Gross=14401563.0, Runtime=117.0\n",
            "Spring, Summer, Fall, Winter... and Spring (Similarity: 0.88)\n",
            "  Similar Features: Rating=7.0, Genre=6.0, Year=2003.0, Score=8.0, Director=1620.0, Country=46.0, Gross=8945072.0, Runtime=103.0\n",
            "Insomnia (Similarity: 0.88)\n",
            "  Similar Features: Rating=4.0, Genre=5.0, Year=1997.0, Score=7.3, Director=820.0, Country=36.0, Gross=227569.0, Runtime=96.0\n",
            "The Devil's Backbone (Similarity: 0.88)\n",
            "  Similar Features: Rating=7.0, Genre=6.0, Year=2001.0, Score=7.4, Director=1023.0, Country=48.0, Gross=6582065.0, Runtime=106.0\n",
            "Jin-Roh: The Wolf Brigade (Similarity: 0.88)\n",
            "  Similar Features: Rating=7.0, Genre=2.0, Year=1999.0, Score=7.4, Director=1082.0, Country=28.0, Gross=94591.0, Runtime=102.0\n"
          ]
        }
      ],
      "source": [
        "import pandas as pd\n",
        "from sklearn.preprocessing import MinMaxScaler\n",
        "from sklearn.metrics.pairwise import cosine_similarity\n",
        "\n",
        "movies_df = pd.read_csv('movies.csv')\n",
        "\n",
        "movies_df = movies_df.fillna(0)\n",
        "\n",
        "df_numeric = movies_df.copy()\n",
        "df_numeric = df_numeric.apply(lambda col: col.astype('category').cat.codes if (col.dtype == 'object' and col.name != 'name') else col)\n",
        "df_numeric.head()\n",
        "\n",
        "features = ['rating', 'genre', 'year', 'score', 'director', 'country', 'gross', 'runtime']\n",
        "feature_matrix = df_numeric[features].values\n",
        "\n",
        "scaler = MinMaxScaler()\n",
        "normalized_features = scaler.fit_transform(feature_matrix)\n",
        "\n",
        "similarity_matrix = cosine_similarity(normalized_features)\n",
        "\n",
        "def get_recommendations(user_movies, top_n=15):\n",
        "    user_movie_indices = []\n",
        "    for movie in user_movies:\n",
        "        matches = df_numeric[df_numeric['name'] == movie]\n",
        "        if not matches.empty:\n",
        "            user_movie_indices.append(matches.index[0])\n",
        "        else:\n",
        "            print(f\"Warning: Movie '{movie}' not found in the dataset.\")\n",
        "\n",
        "    if user_movie_indices:\n",
        "        user_similarity_scores = similarity_matrix[user_movie_indices].mean(axis=0)\n",
        "\n",
        "        top_indices = user_similarity_scores.argsort()[::-1][1:top_n + 1]\n",
        "\n",
        "        top_movies = df_numeric.iloc[top_indices]['name'].tolist()\n",
        "        top_similarities = user_similarity_scores[top_indices]\n",
        "\n",
        "        print(\"Top recommended movies for you:\")\n",
        "        for movie, similarity in zip(top_movies, top_similarities):\n",
        "            similar_features = df_numeric.loc[movies_df['name'] == movie, features].values[0]\n",
        "            print(f\"{movie} (Similarity: {similarity:.2f})\")\n",
        "            print(\n",
        "                f\"  Similar Features: Rating={similar_features[0]}, Genre={similar_features[1]}, Year={similar_features[2]}, Score={similar_features[3]}, Director={similar_features[4]}, Country={similar_features[5]}, Gross={similar_features[6]}, Runtime={similar_features[7]}\")\n",
        "    else:\n",
        "        print(\"No movies from your list were found in the dataset. Cannot provide recommendations.\")\n",
        "\n",
        "user_movies = [\"Airplane!\", \"Caddyshack\", \"Raging Bull\",\"Avatar\",\"Half Moon Street\",\"Proof\",\"FernGully: The Last Rainforest\",\"The Divine Fury\",\"Better Watch Out\"]\n",
        "get_recommendations(user_movies)"
      ]
    }
  ]
}